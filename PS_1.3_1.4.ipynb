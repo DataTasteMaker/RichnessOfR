{
 "cells": [
  {
   "cell_type": "markdown",
   "metadata": {},
   "source": [
    "# Practice Session 1.3\n"
   ]
  },
  {
   "cell_type": "markdown",
   "metadata": {},
   "source": [
    "### 1. Read simple.csv file using\n",
    "a. read.csv\n",
    "\n",
    "b. read.table\n"
   ]
  },
  {
   "cell_type": "code",
   "execution_count": 1,
   "metadata": {
    "collapsed": false
   },
   "outputs": [
    {
     "name": "stdout",
     "output_type": "stream",
     "text": [
      "\n",
      " The contents of the file \"simple.csv\" ==>"
     ]
    },
    {
     "data": {
      "text/html": [
       "<table>\n",
       "<thead><tr><th></th><th scope=col>trial</th><th scope=col>mass</th><th scope=col>velocity</th></tr></thead>\n",
       "<tbody>\n",
       "\t<tr><th scope=row>1</th><td>A</td><td>10</td><td>12</td></tr>\n",
       "\t<tr><th scope=row>2</th><td>A</td><td>11</td><td>14</td></tr>\n",
       "\t<tr><th scope=row>3</th><td>B</td><td>5</td><td>8</td></tr>\n",
       "\t<tr><th scope=row>4</th><td>B</td><td>6</td><td>10</td></tr>\n",
       "\t<tr><th scope=row>5</th><td>A</td><td>10.5</td><td>13</td></tr>\n",
       "\t<tr><th scope=row>6</th><td>B</td><td>7</td><td>11</td></tr>\n",
       "</tbody>\n",
       "</table>\n"
      ],
      "text/latex": [
       "\\begin{tabular}{r|lll}\n",
       "  & trial & mass & velocity\\\\\n",
       "\\hline\n",
       "\t1 & A & 10 & 12\\\\\n",
       "\t2 & A & 11 & 14\\\\\n",
       "\t3 & B & 5 & 8\\\\\n",
       "\t4 & B & 6 & 10\\\\\n",
       "\t5 & A & 10.5 & 13\\\\\n",
       "\t6 & B & 7 & 11\\\\\n",
       "\\end{tabular}\n"
      ],
      "text/plain": [
       "  trial mass velocity\n",
       "1     A 10.0       12\n",
       "2     A 11.0       14\n",
       "3     B  5.0        8\n",
       "4     B  6.0       10\n",
       "5     A 10.5       13\n",
       "6     B  7.0       11"
      ]
     },
     "execution_count": 1,
     "metadata": {},
     "output_type": "execute_result"
    },
    {
     "name": "stdout",
     "output_type": "stream",
     "text": [
      "\n",
      " The contents of the file \"simple.csv\" using read.table function ==>"
     ]
    },
    {
     "data": {
      "text/html": [
       "<table>\n",
       "<thead><tr><th></th><th scope=col>trial</th><th scope=col>X..mass...velocity.</th></tr></thead>\n",
       "<tbody>\n",
       "\t<tr><th scope=row>1</th><td>A</td><td>,10,12</td></tr>\n",
       "\t<tr><th scope=row>2</th><td>A</td><td>,11,14</td></tr>\n",
       "\t<tr><th scope=row>3</th><td>B</td><td>,5,8</td></tr>\n",
       "\t<tr><th scope=row>4</th><td>B</td><td>,6,10</td></tr>\n",
       "\t<tr><th scope=row>5</th><td>A</td><td>,10.5,13</td></tr>\n",
       "\t<tr><th scope=row>6</th><td>B</td><td>,7,11</td></tr>\n",
       "</tbody>\n",
       "</table>\n"
      ],
      "text/latex": [
       "\\begin{tabular}{r|ll}\n",
       "  & trial & X..mass...velocity.\\\\\n",
       "\\hline\n",
       "\t1 & A & ,10,12\\\\\n",
       "\t2 & A & ,11,14\\\\\n",
       "\t3 & B & ,5,8\\\\\n",
       "\t4 & B & ,6,10\\\\\n",
       "\t5 & A & ,10.5,13\\\\\n",
       "\t6 & B & ,7,11\\\\\n",
       "\\end{tabular}\n"
      ],
      "text/plain": [
       "  trial X..mass...velocity.\n",
       "1     A              ,10,12\n",
       "2     A              ,11,14\n",
       "3     B                ,5,8\n",
       "4     B               ,6,10\n",
       "5     A            ,10.5,13\n",
       "6     B               ,7,11"
      ]
     },
     "execution_count": 1,
     "metadata": {},
     "output_type": "execute_result"
    },
    {
     "name": "stdout",
     "output_type": "stream",
     "text": [
      "\n",
      "... without using \"sep =\" option the table shown is in messy format, so now we will use \"sep =\" option\n",
      "this \"sep =\" option separates the values by mentioned delimiter and the output is in tabular format"
     ]
    },
    {
     "data": {
      "text/html": [
       "<table>\n",
       "<thead><tr><th></th><th scope=col>trial</th><th scope=col>mass</th><th scope=col>velocity</th></tr></thead>\n",
       "<tbody>\n",
       "\t<tr><th scope=row>1</th><td>A</td><td>10</td><td>12</td></tr>\n",
       "\t<tr><th scope=row>2</th><td>A</td><td>11</td><td>14</td></tr>\n",
       "\t<tr><th scope=row>3</th><td>B</td><td>5</td><td>8</td></tr>\n",
       "\t<tr><th scope=row>4</th><td>B</td><td>6</td><td>10</td></tr>\n",
       "\t<tr><th scope=row>5</th><td>A</td><td>10.5</td><td>13</td></tr>\n",
       "\t<tr><th scope=row>6</th><td>B</td><td>7</td><td>11</td></tr>\n",
       "</tbody>\n",
       "</table>\n"
      ],
      "text/latex": [
       "\\begin{tabular}{r|lll}\n",
       "  & trial & mass & velocity\\\\\n",
       "\\hline\n",
       "\t1 & A & 10 & 12\\\\\n",
       "\t2 & A & 11 & 14\\\\\n",
       "\t3 & B & 5 & 8\\\\\n",
       "\t4 & B & 6 & 10\\\\\n",
       "\t5 & A & 10.5 & 13\\\\\n",
       "\t6 & B & 7 & 11\\\\\n",
       "\\end{tabular}\n"
      ],
      "text/plain": [
       "  trial mass velocity\n",
       "1     A 10.0       12\n",
       "2     A 11.0       14\n",
       "3     B  5.0        8\n",
       "4     B  6.0       10\n",
       "5     A 10.5       13\n",
       "6     B  7.0       11"
      ]
     },
     "execution_count": 1,
     "metadata": {},
     "output_type": "execute_result"
    }
   ],
   "source": [
    "rm(list=ls())\n",
    "\n",
    "ipFile <- read.csv(\"/home/hduser/Documents/myR/simple.csv\", header = T)\n",
    "cat(\"\\n The contents of the file \\\"simple.csv\\\" ==>\")\n",
    "ipFile\n",
    "\n",
    "ipTable <- read.table(\"/home/hduser/Documents/myR/simple.csv\", header = T)\n",
    "cat(\"\\n The contents of the file \\\"simple.csv\\\" using read.table function ==>\")\n",
    "ipTable\n",
    "cat(\"\\n... without using \\\"sep =\\\" option the table shown is in messy format, so now we will use \\\"sep =\\\" option\")\n",
    "cat(\"\\nthis \\\"sep =\\\" option separates the values by mentioned delimiter and the output is in tabular format\")\n",
    "ipTable_sep <- read.table(\"/home/hduser/Documents/myR/simple.csv\", header = T, sep = \",\")\n",
    "ipTable_sep"
   ]
  }
 ],
 "metadata": {
  "kernelspec": {
   "display_name": "R",
   "language": "R",
   "name": "ir"
  },
  "language_info": {
   "codemirror_mode": "r",
   "file_extension": ".r",
   "mimetype": "text/x-r-source",
   "name": "R",
   "pygments_lexer": "r",
   "version": "3.2.2"
  }
 },
 "nbformat": 4,
 "nbformat_minor": 0
}
