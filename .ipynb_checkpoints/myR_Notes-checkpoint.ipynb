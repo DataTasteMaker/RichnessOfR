{
 "cells": [
  {
   "cell_type": "markdown",
   "metadata": {},
   "source": [
    "Use of ```fix()```"
   ]
  },
  {
   "cell_type": "code",
   "execution_count": 1,
   "metadata": {
    "collapsed": true
   },
   "outputs": [],
   "source": [
    "# using with data, data frame\n",
    "fix(iris)"
   ]
  },
  {
   "cell_type": "markdown",
   "metadata": {},
   "source": [
    "** using with function**\n",
    "\n",
    "Use this in R-Console or R-Studio\n",
    "\n",
    "\n",
    "```r\n",
    "sqAdd5ThenSqrt <- function(x){\n",
    "  x1 <- x^2\n",
    "  x2 <- x1+4\n",
    "  x3 <- sqrt(x2)\n",
    "  return(x3)\n",
    "}\n",
    "\n",
    "sqAdd5ThenSqrt(0)\n",
    "\n",
    "fix(sqAdd5ThenSqrt)\n",
    "\n",
    "# Adjust the 4 to be a 5, save, close\n",
    "\n",
    "sqAdd5ThenSqrt(0)\n",
    "\n",
    "```"
   ]
  },
  {
   "cell_type": "markdown",
   "metadata": {},
   "source": [
    "### Use of *by()* "
   ]
  },
  {
   "cell_type": "code",
   "execution_count": 2,
   "metadata": {
    "collapsed": false
   },
   "outputs": [
    {
     "data": {
      "text/plain": [
       "iris$Species: setosa\n",
       "  Sepal.Length    Sepal.Width     Petal.Length    Petal.Width   \n",
       " Min.   :4.300   Min.   :2.300   Min.   :1.000   Min.   :0.100  \n",
       " 1st Qu.:4.800   1st Qu.:3.200   1st Qu.:1.400   1st Qu.:0.200  \n",
       " Median :5.000   Median :3.400   Median :1.500   Median :0.200  \n",
       " Mean   :5.006   Mean   :3.428   Mean   :1.462   Mean   :0.246  \n",
       " 3rd Qu.:5.200   3rd Qu.:3.675   3rd Qu.:1.575   3rd Qu.:0.300  \n",
       " Max.   :5.800   Max.   :4.400   Max.   :1.900   Max.   :0.600  \n",
       "       Species  \n",
       " setosa    :50  \n",
       " versicolor: 0  \n",
       " virginica : 0  \n",
       "                \n",
       "                \n",
       "                \n",
       "------------------------------------------------------------ \n",
       "iris$Species: versicolor\n",
       "  Sepal.Length    Sepal.Width     Petal.Length   Petal.Width          Species  \n",
       " Min.   :4.900   Min.   :2.000   Min.   :3.00   Min.   :1.000   setosa    : 0  \n",
       " 1st Qu.:5.600   1st Qu.:2.525   1st Qu.:4.00   1st Qu.:1.200   versicolor:50  \n",
       " Median :5.900   Median :2.800   Median :4.35   Median :1.300   virginica : 0  \n",
       " Mean   :5.936   Mean   :2.770   Mean   :4.26   Mean   :1.326                  \n",
       " 3rd Qu.:6.300   3rd Qu.:3.000   3rd Qu.:4.60   3rd Qu.:1.500                  \n",
       " Max.   :7.000   Max.   :3.400   Max.   :5.10   Max.   :1.800                  \n",
       "------------------------------------------------------------ \n",
       "iris$Species: virginica\n",
       "  Sepal.Length    Sepal.Width     Petal.Length    Petal.Width   \n",
       " Min.   :4.900   Min.   :2.200   Min.   :4.500   Min.   :1.400  \n",
       " 1st Qu.:6.225   1st Qu.:2.800   1st Qu.:5.100   1st Qu.:1.800  \n",
       " Median :6.500   Median :3.000   Median :5.550   Median :2.000  \n",
       " Mean   :6.588   Mean   :2.974   Mean   :5.552   Mean   :2.026  \n",
       " 3rd Qu.:6.900   3rd Qu.:3.175   3rd Qu.:5.875   3rd Qu.:2.300  \n",
       " Max.   :7.900   Max.   :3.800   Max.   :6.900   Max.   :2.500  \n",
       "       Species  \n",
       " setosa    : 0  \n",
       " versicolor: 0  \n",
       " virginica :50  \n",
       "                \n",
       "                \n",
       "                "
      ]
     },
     "execution_count": 2,
     "metadata": {},
     "output_type": "execute_result"
    }
   ],
   "source": [
    "by(iris, iris$Species, summary)"
   ]
  },
  {
   "cell_type": "markdown",
   "metadata": {},
   "source": [
    "### use of *identify()*"
   ]
  },
  {
   "cell_type": "markdown",
   "metadata": {},
   "source": [
    "Use this in R-Console or R-Studio, it does not work here in the notebook"
   ]
  },
  {
   "cell_type": "markdown",
   "metadata": {},
   "source": [
    "```\n",
    "plot(iris$Sepal.Length,iris$Sepal.Width)\n",
    "recs <- identify(iris$Sepal.Length,iris$Sepal.Width, iris$Species)\n",
    "\n",
    "iris[recs, ]\n",
    "```"
   ]
  },
  {
   "cell_type": "code",
   "execution_count": null,
   "metadata": {
    "collapsed": true
   },
   "outputs": [],
   "source": []
  }
 ],
 "metadata": {
  "kernelspec": {
   "display_name": "R",
   "language": "R",
   "name": "ir"
  },
  "language_info": {
   "codemirror_mode": "r",
   "file_extension": ".r",
   "mimetype": "text/x-r-source",
   "name": "R",
   "pygments_lexer": "r",
   "version": "3.2.4"
  }
 },
 "nbformat": 4,
 "nbformat_minor": 0
}
