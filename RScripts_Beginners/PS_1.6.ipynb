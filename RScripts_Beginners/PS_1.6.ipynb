{
 "cells": [
  {
   "cell_type": "markdown",
   "metadata": {},
   "source": [
    "# Practice Session 1.6"
   ]
  },
  {
   "cell_type": "code",
   "execution_count": 14,
   "metadata": {
    "collapsed": true
   },
   "outputs": [],
   "source": [
    "rm(list = ls())"
   ]
  },
  {
   "cell_type": "markdown",
   "metadata": {},
   "source": [
    "### 1. Create data Frame df using below vectors\n",
    "numvec = c(2, 5, 8, 9, 0, 6, 7, 8, 4, 5, 7, 11)\n",
    "\n",
    "charvec = c(\"David\", \"James\", \"Sara\", \"Tim\", \"Pierre\", \"Janice\", \"Sara\", \"Priya\", \"Keith\", \"Mark\", \"Apple\", \"Sara\")\n",
    "\n",
    "gender = c(\"M\",\"M\",\"F\",\"M\",\"M\",\"M\",\"F\",\"F\",\"F\",\"M\",\"M\",\"F\")\n",
    "\n",
    "state = c(\"CO\",\"KS\",\"CA\",\"IA\",\"MO\",\"FL\",\"CA\",\"CO\",\"FL\",\"CA\",\"WY\",\"AZ\")\n"
   ]
  },
  {
   "cell_type": "code",
   "execution_count": 15,
   "metadata": {
    "collapsed": true
   },
   "outputs": [],
   "source": [
    "numvec = c(2, 5, 8, 9, 0, 6, 7, 8, 4, 5, 7, 11)\n",
    "charvec = c(\"David\", \"James\", \"Sara\", \"Tim\", \"Pierre\", \"Janice\", \"Sara\", \"Priya\", \"Keith\", \"Mark\", \"Apple\", \"Sara\")\n",
    "gender = c(\"M\",\"M\",\"F\",\"M\",\"M\",\"M\",\"F\",\"F\",\"F\",\"M\",\"M\",\"F\")\n",
    "state = c(\"CO\",\"KS\",\"CA\",\"IA\",\"MO\",\"FL\",\"CA\",\"CO\",\"FL\",\"CA\",\"WY\",\"AZ\")"
   ]
  },
  {
   "cell_type": "code",
   "execution_count": 16,
   "metadata": {
    "collapsed": false
   },
   "outputs": [
    {
     "name": "stdout",
     "output_type": "stream",
     "text": [
      " Create data Frame df using below vectors: \n",
      "\n",
      " A  numeric vector (ID), with values as ==  2 5 8 9 0 6 7 8 4 5 7 11 \n",
      " A  character vector (name), with values as ==  David James Sara Tim Pierre Janice Sara Priya Keith Mark Apple Sara \n",
      " A  character vector (gender), with values as ==  M M F M M M F F F M M F \n",
      " A  character vector (state), with values as ==  CO KS CA IA MO FL CA CO FL CA WY AZ"
     ]
    }
   ],
   "source": [
    "cat(\n",
    "  \" Create data Frame df using below vectors: \\n\\n A \", class(numvec), \"vector (ID), with values as == \", numvec, \"\\n A \", class(charvec), \"vector (name), with values as == \", charvec,\"\\n A \", class(gender), \"vector (gender), with values as == \", gender, \"\\n A \", class(state), \"vector (state), with values as == \", state\n",
    ")"
   ]
  },
  {
   "cell_type": "markdown",
   "metadata": {},
   "source": [
    "### Creating the data frame using data.frame(), along with correct heading"
   ]
  },
  {
   "cell_type": "code",
   "execution_count": 17,
   "metadata": {
    "collapsed": false
   },
   "outputs": [
    {
     "name": "stdout",
     "output_type": "stream",
     "text": [
      "The newly formed data frame \"df\" is ==>"
     ]
    },
    {
     "data": {
      "text/html": [
       "<table>\n",
       "<thead><tr><th></th><th scope=col>ID</th><th scope=col>name</th><th scope=col>gender</th><th scope=col>state</th></tr></thead>\n",
       "<tbody>\n",
       "\t<tr><th scope=row>1</th><td>2</td><td>David</td><td>M</td><td>CO</td></tr>\n",
       "\t<tr><th scope=row>2</th><td>5</td><td>James</td><td>M</td><td>KS</td></tr>\n",
       "\t<tr><th scope=row>3</th><td>8</td><td>Sara</td><td>F</td><td>CA</td></tr>\n",
       "\t<tr><th scope=row>4</th><td>9</td><td>Tim</td><td>M</td><td>IA</td></tr>\n",
       "\t<tr><th scope=row>5</th><td>0</td><td>Pierre</td><td>M</td><td>MO</td></tr>\n",
       "\t<tr><th scope=row>6</th><td>6</td><td>Janice</td><td>M</td><td>FL</td></tr>\n",
       "\t<tr><th scope=row>7</th><td>7</td><td>Sara</td><td>F</td><td>CA</td></tr>\n",
       "\t<tr><th scope=row>8</th><td>8</td><td>Priya</td><td>F</td><td>CO</td></tr>\n",
       "\t<tr><th scope=row>9</th><td>4</td><td>Keith</td><td>F</td><td>FL</td></tr>\n",
       "\t<tr><th scope=row>10</th><td>5</td><td>Mark</td><td>M</td><td>CA</td></tr>\n",
       "\t<tr><th scope=row>11</th><td>7</td><td>Apple</td><td>M</td><td>WY</td></tr>\n",
       "\t<tr><th scope=row>12</th><td>11</td><td>Sara</td><td>F</td><td>AZ</td></tr>\n",
       "</tbody>\n",
       "</table>\n"
      ],
      "text/latex": [
       "\\begin{tabular}{r|llll}\n",
       "  & ID & name & gender & state\\\\\n",
       "\\hline\n",
       "\t1 & 2 & David & M & CO\\\\\n",
       "\t2 & 5 & James & M & KS\\\\\n",
       "\t3 & 8 & Sara & F & CA\\\\\n",
       "\t4 & 9 & Tim & M & IA\\\\\n",
       "\t5 & 0 & Pierre & M & MO\\\\\n",
       "\t6 & 6 & Janice & M & FL\\\\\n",
       "\t7 & 7 & Sara & F & CA\\\\\n",
       "\t8 & 8 & Priya & F & CO\\\\\n",
       "\t9 & 4 & Keith & F & FL\\\\\n",
       "\t10 & 5 & Mark & M & CA\\\\\n",
       "\t11 & 7 & Apple & M & WY\\\\\n",
       "\t12 & 11 & Sara & F & AZ\\\\\n",
       "\\end{tabular}\n"
      ],
      "text/plain": [
       "   ID   name gender state\n",
       "1   2  David      M    CO\n",
       "2   5  James      M    KS\n",
       "3   8   Sara      F    CA\n",
       "4   9    Tim      M    IA\n",
       "5   0 Pierre      M    MO\n",
       "6   6 Janice      M    FL\n",
       "7   7   Sara      F    CA\n",
       "8   8  Priya      F    CO\n",
       "9   4  Keith      F    FL\n",
       "10  5   Mark      M    CA\n",
       "11  7  Apple      M    WY\n",
       "12 11   Sara      F    AZ"
      ]
     },
     "execution_count": 17,
     "metadata": {},
     "output_type": "execute_result"
    }
   ],
   "source": [
    "df <- data.frame(ID = (numvec),name = (charvec),gender,state)\n",
    "cat(\"The newly formed data frame \\\"df\\\" is ==>\")\n",
    "df"
   ]
  },
  {
   "cell_type": "markdown",
   "metadata": {},
   "source": [
    "### Subsetting the Data frame"
   ]
  },
  {
   "cell_type": "code",
   "execution_count": 18,
   "metadata": {
    "collapsed": false
   },
   "outputs": [
    {
     "name": "stdout",
     "output_type": "stream",
     "text": [
      "a. Subset the data frame where the ID < 5 -- "
     ]
    },
    {
     "data": {
      "text/html": [
       "<table>\n",
       "<thead><tr><th></th><th scope=col>ID</th><th scope=col>name</th><th scope=col>gender</th><th scope=col>state</th></tr></thead>\n",
       "<tbody>\n",
       "\t<tr><th scope=row>1</th><td>2</td><td>David</td><td>M</td><td>CO</td></tr>\n",
       "\t<tr><th scope=row>5</th><td>0</td><td>Pierre</td><td>M</td><td>MO</td></tr>\n",
       "\t<tr><th scope=row>9</th><td>4</td><td>Keith</td><td>F</td><td>FL</td></tr>\n",
       "</tbody>\n",
       "</table>\n"
      ],
      "text/latex": [
       "\\begin{tabular}{r|llll}\n",
       "  & ID & name & gender & state\\\\\n",
       "\\hline\n",
       "\t1 & 2 & David & M & CO\\\\\n",
       "\t5 & 0 & Pierre & M & MO\\\\\n",
       "\t9 & 4 & Keith & F & FL\\\\\n",
       "\\end{tabular}\n"
      ],
      "text/plain": [
       "  ID   name gender state\n",
       "1  2  David      M    CO\n",
       "5  0 Pierre      M    MO\n",
       "9  4  Keith      F    FL"
      ]
     },
     "execution_count": 18,
     "metadata": {},
     "output_type": "execute_result"
    },
    {
     "name": "stdout",
     "output_type": "stream",
     "text": [
      "b. Subset the data frame where the name is \"Sara\" -- "
     ]
    },
    {
     "data": {
      "text/html": [
       "<table>\n",
       "<thead><tr><th></th><th scope=col>ID</th><th scope=col>name</th><th scope=col>gender</th><th scope=col>state</th></tr></thead>\n",
       "<tbody>\n",
       "\t<tr><th scope=row>3</th><td>8</td><td>Sara</td><td>F</td><td>CA</td></tr>\n",
       "\t<tr><th scope=row>7</th><td>7</td><td>Sara</td><td>F</td><td>CA</td></tr>\n",
       "\t<tr><th scope=row>12</th><td>11</td><td>Sara</td><td>F</td><td>AZ</td></tr>\n",
       "</tbody>\n",
       "</table>\n"
      ],
      "text/latex": [
       "\\begin{tabular}{r|llll}\n",
       "  & ID & name & gender & state\\\\\n",
       "\\hline\n",
       "\t3 & 8 & Sara & F & CA\\\\\n",
       "\t7 & 7 & Sara & F & CA\\\\\n",
       "\t12 & 11 & Sara & F & AZ\\\\\n",
       "\\end{tabular}\n"
      ],
      "text/plain": [
       "   ID name gender state\n",
       "3   8 Sara      F    CA\n",
       "7   7 Sara      F    CA\n",
       "12 11 Sara      F    AZ"
      ]
     },
     "execution_count": 18,
     "metadata": {},
     "output_type": "execute_result"
    },
    {
     "name": "stdout",
     "output_type": "stream",
     "text": [
      "c. Displaying (names and state) for Id =5 -- "
     ]
    },
    {
     "data": {
      "text/html": [
       "<table>\n",
       "<thead><tr><th></th><th scope=col>name</th><th scope=col>state</th></tr></thead>\n",
       "<tbody>\n",
       "\t<tr><th scope=row>2</th><td>James</td><td>KS</td></tr>\n",
       "\t<tr><th scope=row>10</th><td>Mark</td><td>CA</td></tr>\n",
       "</tbody>\n",
       "</table>\n"
      ],
      "text/latex": [
       "\\begin{tabular}{r|ll}\n",
       "  & name & state\\\\\n",
       "\\hline\n",
       "\t2 & James & KS\\\\\n",
       "\t10 & Mark & CA\\\\\n",
       "\\end{tabular}\n"
      ],
      "text/plain": [
       "    name state\n",
       "2  James    KS\n",
       "10  Mark    CA"
      ]
     },
     "execution_count": 18,
     "metadata": {},
     "output_type": "execute_result"
    },
    {
     "name": "stdout",
     "output_type": "stream",
     "text": [
      "d. Display observations which are not Sara, and are female with IDs > 5 -- "
     ]
    },
    {
     "data": {
      "text/html": [
       "<table>\n",
       "<thead><tr><th></th><th scope=col>ID</th><th scope=col>name</th><th scope=col>gender</th><th scope=col>state</th></tr></thead>\n",
       "<tbody>\n",
       "\t<tr><th scope=row>8</th><td>8</td><td>Priya</td><td>F</td><td>CO</td></tr>\n",
       "</tbody>\n",
       "</table>\n"
      ],
      "text/latex": [
       "\\begin{tabular}{r|llll}\n",
       "  & ID & name & gender & state\\\\\n",
       "\\hline\n",
       "\t8 & 8 & Priya & F & CO\\\\\n",
       "\\end{tabular}\n"
      ],
      "text/plain": [
       "  ID  name gender state\n",
       "8  8 Priya      F    CO"
      ]
     },
     "execution_count": 18,
     "metadata": {},
     "output_type": "execute_result"
    }
   ],
   "source": [
    "cat(\"a. Subset the data frame where the ID < 5 -- \")\n",
    "df[numvec < 5,]\n",
    "\n",
    "cat(\"b. Subset the data frame where the name is \\\"Sara\\\" -- \")\n",
    "df[charvec == \"Sara\",]\n",
    "\n",
    "cat(\"c. Displaying (names and state) for Id =5 -- \")\n",
    "df[numvec == 5,c(\"name\",\"state\")]\n",
    "\n",
    "cat(\"d. Display observations which are not Sara, and are female with IDs > 5 -- \")\n",
    "df[numvec > 5 & charvec != \"Sara\" & gender == \"F\",]"
   ]
  },
  {
   "cell_type": "code",
   "execution_count": 26,
   "metadata": {
    "collapsed": true
   },
   "outputs": [],
   "source": [
    "rm(list = ls())"
   ]
  },
  {
   "cell_type": "markdown",
   "metadata": {},
   "source": [
    "### 2. Create a data frame (df2) from a text file."
   ]
  },
  {
   "cell_type": "code",
   "execution_count": 27,
   "metadata": {
    "collapsed": false
   },
   "outputs": [
    {
     "name": "stdout",
     "output_type": "stream",
     "text": [
      "[1] \"The Data frame in text file is as --\"\n"
     ]
    },
    {
     "data": {
      "text/html": [
       "<table>\n",
       "<thead><tr><th></th><th scope=col>ID</th><th scope=col>Gender</th><th scope=col>Age</th></tr></thead>\n",
       "<tbody>\n",
       "\t<tr><th scope=row>1</th><td>1</td><td>m</td><td>22</td></tr>\n",
       "\t<tr><th scope=row>2</th><td>2</td><td>f</td><td>35</td></tr>\n",
       "\t<tr><th scope=row>3</th><td>3</td><td>m</td><td>43</td></tr>\n",
       "\t<tr><th scope=row>4</th><td>4</td><td>f</td><td>52</td></tr>\n",
       "\t<tr><th scope=row>5</th><td>5</td><td>m</td><td>58</td></tr>\n",
       "\t<tr><th scope=row>6</th><td>6</td><td>f</td><td>23</td></tr>\n",
       "\t<tr><th scope=row>7</th><td>7</td><td>m</td><td>36</td></tr>\n",
       "\t<tr><th scope=row>8</th><td>8</td><td>f</td><td>46</td></tr>\n",
       "\t<tr><th scope=row>9</th><td>9</td><td>m</td><td>39</td></tr>\n",
       "\t<tr><th scope=row>10</th><td>10</td><td>f</td><td>31</td></tr>\n",
       "</tbody>\n",
       "</table>\n"
      ],
      "text/latex": [
       "\\begin{tabular}{r|lll}\n",
       "  & ID & Gender & Age\\\\\n",
       "\\hline\n",
       "\t1 & 1 & m & 22\\\\\n",
       "\t2 & 2 & f & 35\\\\\n",
       "\t3 & 3 & m & 43\\\\\n",
       "\t4 & 4 & f & 52\\\\\n",
       "\t5 & 5 & m & 58\\\\\n",
       "\t6 & 6 & f & 23\\\\\n",
       "\t7 & 7 & m & 36\\\\\n",
       "\t8 & 8 & f & 46\\\\\n",
       "\t9 & 9 & m & 39\\\\\n",
       "\t10 & 10 & f & 31\\\\\n",
       "\\end{tabular}\n"
      ],
      "text/plain": [
       "   ID Gender Age\n",
       "1   1      m  22\n",
       "2   2      f  35\n",
       "3   3      m  43\n",
       "4   4      f  52\n",
       "5   5      m  58\n",
       "6   6      f  23\n",
       "7   7      m  36\n",
       "8   8      f  46\n",
       "9   9      m  39\n",
       "10 10      f  31"
      ]
     },
     "execution_count": 27,
     "metadata": {},
     "output_type": "execute_result"
    }
   ],
   "source": [
    "df2 <- read.delim(\"/home/hduser/Documents/myR/DF2_data.txt\")\n",
    "print(\"The Data frame in text file is as --\")\n",
    "df2\n"
   ]
  },
  {
   "cell_type": "markdown",
   "metadata": {},
   "source": [
    "#### a. Add the coffeecups vector"
   ]
  },
  {
   "cell_type": "code",
   "execution_count": 28,
   "metadata": {
    "collapsed": false
   },
   "outputs": [
    {
     "data": {
      "text/html": [
       "<table>\n",
       "<thead><tr><th></th><th scope=col>ID</th><th scope=col>Gender</th><th scope=col>Age</th><th scope=col>coffeecups</th></tr></thead>\n",
       "<tbody>\n",
       "\t<tr><th scope=row>1</th><td>1</td><td>m</td><td>22</td><td>3</td></tr>\n",
       "\t<tr><th scope=row>2</th><td>2</td><td>f</td><td>35</td><td>1</td></tr>\n",
       "\t<tr><th scope=row>3</th><td>3</td><td>m</td><td>43</td><td>2</td></tr>\n",
       "\t<tr><th scope=row>4</th><td>4</td><td>f</td><td>52</td><td>5</td></tr>\n",
       "\t<tr><th scope=row>5</th><td>5</td><td>m</td><td>58</td><td>0</td></tr>\n",
       "\t<tr><th scope=row>6</th><td>6</td><td>f</td><td>23</td><td>2</td></tr>\n",
       "\t<tr><th scope=row>7</th><td>7</td><td>m</td><td>36</td><td>0</td></tr>\n",
       "\t<tr><th scope=row>8</th><td>8</td><td>f</td><td>46</td><td>1</td></tr>\n",
       "\t<tr><th scope=row>9</th><td>9</td><td>m</td><td>39</td><td>3</td></tr>\n",
       "\t<tr><th scope=row>10</th><td>10</td><td>f</td><td>31</td><td>2</td></tr>\n",
       "</tbody>\n",
       "</table>\n"
      ],
      "text/latex": [
       "\\begin{tabular}{r|llll}\n",
       "  & ID & Gender & Age & coffeecups\\\\\n",
       "\\hline\n",
       "\t1 & 1 & m & 22 & 3\\\\\n",
       "\t2 & 2 & f & 35 & 1\\\\\n",
       "\t3 & 3 & m & 43 & 2\\\\\n",
       "\t4 & 4 & f & 52 & 5\\\\\n",
       "\t5 & 5 & m & 58 & 0\\\\\n",
       "\t6 & 6 & f & 23 & 2\\\\\n",
       "\t7 & 7 & m & 36 & 0\\\\\n",
       "\t8 & 8 & f & 46 & 1\\\\\n",
       "\t9 & 9 & m & 39 & 3\\\\\n",
       "\t10 & 10 & f & 31 & 2\\\\\n",
       "\\end{tabular}\n"
      ],
      "text/plain": [
       "   ID Gender Age coffeecups\n",
       "1   1      m  22          3\n",
       "2   2      f  35          1\n",
       "3   3      m  43          2\n",
       "4   4      f  52          5\n",
       "5   5      m  58          0\n",
       "6   6      f  23          2\n",
       "7   7      m  36          0\n",
       "8   8      f  46          1\n",
       "9   9      m  39          3\n",
       "10 10      f  31          2"
      ]
     },
     "execution_count": 28,
     "metadata": {},
     "output_type": "execute_result"
    }
   ],
   "source": [
    "coffeecups <- c(3,1,2,5,0,2,0,1,3,2)\n",
    "df2 <- cbind(df2,coffeecups)\n",
    "df2"
   ]
  },
  {
   "cell_type": "markdown",
   "metadata": {},
   "source": [
    "#### b. Add new entry "
   ]
  },
  {
   "cell_type": "code",
   "execution_count": 29,
   "metadata": {
    "collapsed": false
   },
   "outputs": [
    {
     "name": "stdout",
     "output_type": "stream",
     "text": [
      "[1] \"The Data frame with new record added at the end --\"\n"
     ]
    },
    {
     "data": {
      "text/html": [
       "<table>\n",
       "<thead><tr><th></th><th scope=col>ID</th><th scope=col>Gender</th><th scope=col>Age</th><th scope=col>coffeecups</th></tr></thead>\n",
       "<tbody>\n",
       "\t<tr><th scope=row>1</th><td>1</td><td>m</td><td>22</td><td>3</td></tr>\n",
       "\t<tr><th scope=row>2</th><td>2</td><td>f</td><td>35</td><td>1</td></tr>\n",
       "\t<tr><th scope=row>3</th><td>3</td><td>m</td><td>43</td><td>2</td></tr>\n",
       "\t<tr><th scope=row>4</th><td>4</td><td>f</td><td>52</td><td>5</td></tr>\n",
       "\t<tr><th scope=row>5</th><td>5</td><td>m</td><td>58</td><td>0</td></tr>\n",
       "\t<tr><th scope=row>6</th><td>6</td><td>f</td><td>23</td><td>2</td></tr>\n",
       "\t<tr><th scope=row>7</th><td>7</td><td>m</td><td>36</td><td>0</td></tr>\n",
       "\t<tr><th scope=row>8</th><td>8</td><td>f</td><td>46</td><td>1</td></tr>\n",
       "\t<tr><th scope=row>9</th><td>9</td><td>m</td><td>39</td><td>3</td></tr>\n",
       "\t<tr><th scope=row>10</th><td>10</td><td>f</td><td>31</td><td>2</td></tr>\n",
       "\t<tr><th scope=row>11</th><td>11</td><td>m</td><td>28</td><td>4</td></tr>\n",
       "</tbody>\n",
       "</table>\n"
      ],
      "text/latex": [
       "\\begin{tabular}{r|llll}\n",
       "  & ID & Gender & Age & coffeecups\\\\\n",
       "\\hline\n",
       "\t1 & 1 & m & 22 & 3\\\\\n",
       "\t2 & 2 & f & 35 & 1\\\\\n",
       "\t3 & 3 & m & 43 & 2\\\\\n",
       "\t4 & 4 & f & 52 & 5\\\\\n",
       "\t5 & 5 & m & 58 & 0\\\\\n",
       "\t6 & 6 & f & 23 & 2\\\\\n",
       "\t7 & 7 & m & 36 & 0\\\\\n",
       "\t8 & 8 & f & 46 & 1\\\\\n",
       "\t9 & 9 & m & 39 & 3\\\\\n",
       "\t10 & 10 & f & 31 & 2\\\\\n",
       "\t11 & 11 & m & 28 & 4\\\\\n",
       "\\end{tabular}\n"
      ],
      "text/plain": [
       "   ID Gender Age coffeecups\n",
       "1   1      m  22          3\n",
       "2   2      f  35          1\n",
       "3   3      m  43          2\n",
       "4   4      f  52          5\n",
       "5   5      m  58          0\n",
       "6   6      f  23          2\n",
       "7   7      m  36          0\n",
       "8   8      f  46          1\n",
       "9   9      m  39          3\n",
       "10 10      f  31          2\n",
       "11 11      m  28          4"
      ]
     },
     "execution_count": 29,
     "metadata": {},
     "output_type": "execute_result"
    }
   ],
   "source": [
    "df2[nrow(df2) + 1,] <-  c('11',\"m\",28,4)\n",
    "print(\"The Data frame with new record added at the end --\")\n",
    "df2"
   ]
  },
  {
   "cell_type": "markdown",
   "metadata": {},
   "source": [
    "#### c. Subset the data frame with only the 2nd column"
   ]
  },
  {
   "cell_type": "code",
   "execution_count": 30,
   "metadata": {
    "collapsed": false
   },
   "outputs": [
    {
     "data": {
      "text/html": [
       "<ol class=list-inline>\n",
       "\t<li>m</li>\n",
       "\t<li>f</li>\n",
       "\t<li>m</li>\n",
       "\t<li>f</li>\n",
       "\t<li>m</li>\n",
       "\t<li>f</li>\n",
       "\t<li>m</li>\n",
       "\t<li>f</li>\n",
       "\t<li>m</li>\n",
       "\t<li>f</li>\n",
       "\t<li>m</li>\n",
       "</ol>\n"
      ],
      "text/latex": [
       "\\begin{enumerate*}\n",
       "\\item m\n",
       "\\item f\n",
       "\\item m\n",
       "\\item f\n",
       "\\item m\n",
       "\\item f\n",
       "\\item m\n",
       "\\item f\n",
       "\\item m\n",
       "\\item f\n",
       "\\item m\n",
       "\\end{enumerate*}\n"
      ],
      "text/markdown": [
       "1. m\n",
       "2. f\n",
       "3. m\n",
       "4. f\n",
       "5. m\n",
       "6. f\n",
       "7. m\n",
       "8. f\n",
       "9. m\n",
       "10. f\n",
       "11. m\n",
       "\n",
       "\n"
      ],
      "text/plain": [
       " [1] m f m f m f m f m f m\n",
       "Levels: f m"
      ]
     },
     "execution_count": 30,
     "metadata": {},
     "output_type": "execute_result"
    }
   ],
   "source": [
    "df2[,2]"
   ]
  },
  {
   "cell_type": "markdown",
   "metadata": {},
   "source": [
    "#### d. Subset rows (1,3,8) from the data frame"
   ]
  },
  {
   "cell_type": "code",
   "execution_count": 31,
   "metadata": {
    "collapsed": false
   },
   "outputs": [
    {
     "data": {
      "text/html": [
       "<table>\n",
       "<thead><tr><th></th><th scope=col>ID</th><th scope=col>Gender</th><th scope=col>Age</th><th scope=col>coffeecups</th></tr></thead>\n",
       "<tbody>\n",
       "\t<tr><th scope=row>1</th><td>1</td><td>m</td><td>22</td><td>3</td></tr>\n",
       "\t<tr><th scope=row>3</th><td>3</td><td>m</td><td>43</td><td>2</td></tr>\n",
       "\t<tr><th scope=row>8</th><td>8</td><td>f</td><td>46</td><td>1</td></tr>\n",
       "</tbody>\n",
       "</table>\n"
      ],
      "text/latex": [
       "\\begin{tabular}{r|llll}\n",
       "  & ID & Gender & Age & coffeecups\\\\\n",
       "\\hline\n",
       "\t1 & 1 & m & 22 & 3\\\\\n",
       "\t3 & 3 & m & 43 & 2\\\\\n",
       "\t8 & 8 & f & 46 & 1\\\\\n",
       "\\end{tabular}\n"
      ],
      "text/plain": [
       "  ID Gender Age coffeecups\n",
       "1  1      m  22          3\n",
       "3  3      m  43          2\n",
       "8  8      f  46          1"
      ]
     },
     "execution_count": 31,
     "metadata": {},
     "output_type": "execute_result"
    }
   ],
   "source": [
    " df2[c(1,3,8),]"
   ]
  }
 ],
 "metadata": {
  "kernelspec": {
   "display_name": "R",
   "language": "R",
   "name": "ir"
  },
  "language_info": {
   "codemirror_mode": "r",
   "file_extension": ".r",
   "mimetype": "text/x-r-source",
   "name": "R",
   "pygments_lexer": "r",
   "version": "3.2.2"
  }
 },
 "nbformat": 4,
 "nbformat_minor": 0
}
