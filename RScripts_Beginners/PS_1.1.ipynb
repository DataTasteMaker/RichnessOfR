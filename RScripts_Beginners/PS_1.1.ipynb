{
 "cells": [
  {
   "cell_type": "markdown",
   "metadata": {},
   "source": [
    "# Practice Session 1.1"
   ]
  },
  {
   "cell_type": "markdown",
   "metadata": {},
   "source": [
    "### 1. Create two objects 'a' and 'b' having values 2 and 7 respectively"
   ]
  },
  {
   "cell_type": "code",
   "execution_count": 4,
   "metadata": {
    "collapsed": false
   },
   "outputs": [
    {
     "name": "stdout",
     "output_type": "stream",
     "text": [
      "\n",
      "The value of obeject \"a\" == 2\n",
      "The value in the object \"a\" ==  numeric\n",
      "The value of obeject \"b\" == 7\n",
      "The value in the object \"b\" ==  numeric"
     ]
    }
   ],
   "source": [
    "rm (list = ls())\n",
    "\n",
    "#1. Create two objects 'a' and 'b' having values 2 and 7 respectively\n",
    "a <- c(2)  #Assigns the value 2 to object a\n",
    "b <- c(7)  #Assigns the value 7 to object b\n",
    "\n",
    "# Prints the values in the object\n",
    "cat(\"\\nThe value of obeject \\\"a\\\" ==\", a)\n",
    "\n",
    "# Gets the class of the object\n",
    "cat(\"\\nThe value in the object \\\"a\\\" == \", class(a))\n",
    "\n",
    "# Prints the values in the object\n",
    "cat(\"\\nThe value of obeject \\\"b\\\" ==\", b)\n",
    "\n",
    "# Gets the class of the object\n",
    "cat(\"\\nThe value in the object \\\"b\\\" == \", class(b))\n"
   ]
  },
  {
   "cell_type": "markdown",
   "metadata": {},
   "source": [
    "### 2. Create an object \"A\" having value 4 using both the types of assignments"
   ]
  },
  {
   "cell_type": "code",
   "execution_count": 8,
   "metadata": {
    "collapsed": false
   },
   "outputs": [
    {
     "data": {
      "text/html": [
       "4"
      ],
      "text/latex": [
       "4"
      ],
      "text/markdown": [
       "4"
      ],
      "text/plain": [
       "[1] 4"
      ]
     },
     "execution_count": 8,
     "metadata": {},
     "output_type": "execute_result"
    }
   ],
   "source": [
    "#2. Create an object \"A\" having value 4 using both the types of assignments\n",
    "A = c(4) # using = (equal to sign) and c function\n",
    "A <- 4 # using \"<-\" operator\n",
    "assign(\"A\",4) # using assign function \n",
    "4 -> A # Value getting assigned to object\n",
    "A"
   ]
  },
  {
   "cell_type": "markdown",
   "metadata": {},
   "source": [
    "### 3. Overwrite the object \"a\" with \"A\""
   ]
  },
  {
   "cell_type": "code",
   "execution_count": 9,
   "metadata": {
    "collapsed": false
   },
   "outputs": [
    {
     "name": "stdout",
     "output_type": "stream",
     "text": [
      "\n",
      " Old value of \"a\" ==  2\n",
      " New value of \"a after overwriting it with \"A\" ==  4"
     ]
    }
   ],
   "source": [
    "#3. Overwrite the object \"a\" with \"A\"\n",
    "\n",
    "cat(\"\\n Old value of \\\"a\\\" == \" , a)\n",
    "a <- A\n",
    "cat(\"\\n New value of \\\"a\\ after overwriting it with \\\"A\\\" == \" , a)\n"
   ]
  },
  {
   "cell_type": "markdown",
   "metadata": {},
   "source": [
    "### 4. Perform the below operations on \"a\" and \"b\"\n",
    "#### a. Addition, b. Subtration\n",
    "#### c. Multiplication d. Division"
   ]
  },
  {
   "cell_type": "code",
   "execution_count": 10,
   "metadata": {
    "collapsed": false
   },
   "outputs": [
    {
     "name": "stdout",
     "output_type": "stream",
     "text": [
      "\n",
      "Ans_4.a - Addition of \"a\"( 4 )and \"b\"( 7 )==  11\n",
      "Ans_4.b - Subtraction of \"a\"( 4 )and \"b\"( 7 )==  -3\n",
      "Ans_4.c - Multiplication of \"a\"( 4 )and \"b\"( 7 )==  28\n",
      "Ans_4.d - Division of \"a\"( 4 )and \"b\"( 7 )==  0.5714286"
     ]
    }
   ],
   "source": [
    "#4. Perform the below operations on \"a\" and \"b\"\n",
    "# a. Addition, b. Subtration\n",
    "# c. Multiplication d. Division\n",
    "\n",
    "cat(\"\\nAns_4.a - Addition of \\\"a\\\"(\",a, \")and \\\"b\\\"(\",b,\")== \", a + b)\n",
    "cat(\"\\nAns_4.b - Subtraction of \\\"a\\\"(\",a, \")and \\\"b\\\"(\",b,\")== \", a - b)\n",
    "cat(\"\\nAns_4.c - Multiplication of \\\"a\\\"(\",a, \")and \\\"b\\\"(\",b,\")== \", a * b)\n",
    "cat(\"\\nAns_4.d - Division of \\\"a\\\"(\",a, \")and \\\"b\\\"(\",b,\")== \", a / b)\n",
    "\n",
    "\n"
   ]
  },
  {
   "cell_type": "markdown",
   "metadata": {},
   "source": [
    "### 5. Perform the following operations on object \"B\" having a value 8\n",
    "#### a. Square and Square root.\n",
    "#### b. Cube and Cube root.\n",
    "#### c. Log to the base 2, 5, 10 and e.\n",
    "#### d. Exponential"
   ]
  },
  {
   "cell_type": "code",
   "execution_count": 11,
   "metadata": {
    "collapsed": false
   },
   "outputs": [
    {
     "name": "stdout",
     "output_type": "stream",
     "text": [
      "\n",
      "Ans_5.a.1 - Square of \"B\"( 8 ) using simple multiplication B * B ==  64\n",
      "Ans_5.a.1 - Square of \"B\"( 8 ) using raise-to-power operator B ^ 2 ==  64\n",
      "Ans_5.a.2 - Square root of ( 64 ) using sqrt() ==  8\n",
      "Ans_5.b - Cube of \"B\"( 8 ) using raise-to-power operator B ^ 3 ==  512\n",
      "Ans_5.b - Cube  root of ( 512 ) using raise-to-power operator B ^ 1/3 ==  8\n",
      "Ans5.c - Log of \"B\"( 8 ) to the base 2 ==  3\n",
      "Ans5.c - Log of \"B\"( 8 ) to the base 5 ==  1.29203\n",
      "Ans5.c - Log of \"B\"( 8 ) to the base 10 ==  0.90309\n",
      "Ans5.c - Log of \"B\"( 8 ) to the e ==  2.079442\n",
      "Ans5.d - Exponential value of \"B\"( 8 ) is == 2980.958"
     ]
    }
   ],
   "source": [
    "#5. Perform the following operations on object \"B\" having a value 8\n",
    "B <- 8\n",
    "\n",
    "cat(\"\\nAns_5.a.1 - Square of \\\"B\\\"(\",B,\") using simple multiplication B * B == \", B * B)\n",
    "cat(\"\\nAns_5.a.1 - Square of \\\"B\\\"(\",B,\") using raise-to-power operator B ^ 2 == \", B ^ 2)\n",
    "sqr_B = B ^ 2\n",
    "cat(\"\\nAns_5.a.2 - Square root of (\",sqr_B,\") using sqrt() == \", sqrt(sqr_B))\n",
    "\n",
    "cub_B <- B ^ 3 \n",
    "\n",
    "cat(\"\\nAns_5.b - Cube of \\\"B\\\"(\",B,\") using raise-to-power operator B ^ 3 == \", B ^ 3)\n",
    "cat(\"\\nAns_5.b - Cube  root of (\",cub_B,\") using raise-to-power operator B ^ 1/3 == \", cub_B ^ (1/3))\n",
    "\n",
    "cat(\"\\nAns5.c - Log of \\\"B\\\"(\",B,\") to the base 2 == \", log2(B))\n",
    "cat(\"\\nAns5.c - Log of \\\"B\\\"(\",B,\") to the base 5 == \", log(B,base=5))\n",
    "cat(\"\\nAns5.c - Log of \\\"B\\\"(\",B,\") to the base 10 == \", log10(B))\n",
    "cat(\"\\nAns5.c - Log of \\\"B\\\"(\",B,\") to the e == \", log(B))\n",
    "\n",
    "cat(\"\\nAns5.d - Exponential value of \\\"B\\\"(\",B,\") is ==\", exp(B))"
   ]
  },
  {
   "cell_type": "markdown",
   "metadata": {},
   "source": [
    "### 6. Delete the objects 'A' and 'B' from the memory"
   ]
  },
  {
   "cell_type": "code",
   "execution_count": 12,
   "metadata": {
    "collapsed": false
   },
   "outputs": [],
   "source": [
    "rm(\"A\")\n",
    "rm(\"B\")"
   ]
  }
 ],
 "metadata": {
  "kernelspec": {
   "display_name": "R",
   "language": "R",
   "name": "ir"
  },
  "language_info": {
   "codemirror_mode": "r",
   "file_extension": ".r",
   "mimetype": "text/x-r-source",
   "name": "R",
   "pygments_lexer": "r",
   "version": "3.2.2"
  }
 },
 "nbformat": 4,
 "nbformat_minor": 0
}
