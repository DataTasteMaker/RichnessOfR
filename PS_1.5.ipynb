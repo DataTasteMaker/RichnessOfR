{
 "cells": [
  {
   "cell_type": "markdown",
   "metadata": {},
   "source": [
    "# Practice Session 1.5"
   ]
  },
  {
   "cell_type": "code",
   "execution_count": 1,
   "metadata": {
    "collapsed": true
   },
   "outputs": [],
   "source": [
    "rm(list=ls())"
   ]
  },
  {
   "cell_type": "markdown",
   "metadata": {},
   "source": [
    "### 1.Perform the following operations on the \"AirPassengers\" dataset in R"
   ]
  },
  {
   "cell_type": "code",
   "execution_count": 2,
   "metadata": {
    "collapsed": false
   },
   "outputs": [
    {
     "name": "stdout",
     "output_type": "stream",
     "text": [
      "\n",
      " The class of the \"AirPassengers\" dataset object is ==>  ts , i.e. a Time Series[1] \" We can perform the culumative, aggregate and various statistical functions on this data\"\n",
      "[1] \" like... \"\n",
      "\n",
      " a. Mean ==>  280.2986\n",
      " b. Std. Dev. ==>  119.9663\n",
      " c. Qunatile ==> "
     ]
    },
    {
     "data": {
      "text/html": [
       "<dl class=dl-horizontal>\n",
       "\t<dt>0%</dt>\n",
       "\t\t<dd>104</dd>\n",
       "\t<dt>25%</dt>\n",
       "\t\t<dd>180</dd>\n",
       "\t<dt>50%</dt>\n",
       "\t\t<dd>265.5</dd>\n",
       "\t<dt>75%</dt>\n",
       "\t\t<dd>360.5</dd>\n",
       "\t<dt>100%</dt>\n",
       "\t\t<dd>622</dd>\n",
       "</dl>\n"
      ],
      "text/latex": [
       "\\begin{description*}\n",
       "\\item[0%] 104\n",
       "\\item[25%] 180\n",
       "\\item[50%] 265.5\n",
       "\\item[75%] 360.5\n",
       "\\item[100%] 622\n",
       "\\end{description*}\n"
      ],
      "text/markdown": [
       "0%\n",
       ":   10425%\n",
       ":   18050%\n",
       ":   265.575%\n",
       ":   360.5100%\n",
       ":   622\n",
       "\n"
      ],
      "text/plain": [
       "   0%   25%   50%   75%  100% \n",
       "104.0 180.0 265.5 360.5 622.0 "
      ]
     },
     "execution_count": 2,
     "metadata": {},
     "output_type": "execute_result"
    },
    {
     "name": "stdout",
     "output_type": "stream",
     "text": [
      "\n",
      " d. Length of the dataset == > 144  observations\n",
      " e. Range of the dataset == > 104 622"
     ]
    }
   ],
   "source": [
    "airpass <- AirPassengers\n",
    "\n",
    "cat(\"\\n The class of the \\\"AirPassengers\\\" dataset object is ==> \", class(airpass), \", i.e. a Time Series\")\n",
    "\n",
    "print(\" We can perform the culumative, aggregate and various statistical functions on this data\")\n",
    "print(\" like... \")\n",
    "\n",
    "cat(\"\\n a. Mean ==> \", mean(airpass))\n",
    "cat(\"\\n b. Std. Dev. ==> \", sd(airpass))\n",
    "cat(\"\\n c. Qunatile ==> \")\n",
    "quantile(airpass)\n",
    "cat(\"\\n d. Length of the dataset == >\", length(AirPassengers), \" observations\")\n",
    "cat(\"\\n e. Range of the dataset == >\", range(AirPassengers))"
   ]
  },
  {
   "cell_type": "markdown",
   "metadata": {},
   "source": [
    "### 2.Perform the following operations on the \"airquality\" dataset in R"
   ]
  },
  {
   "cell_type": "code",
   "execution_count": 3,
   "metadata": {
    "collapsed": false
   },
   "outputs": [
    {
     "name": "stdout",
     "output_type": "stream",
     "text": [
      "\n",
      " The class of the \"airquality\" dataset object is ==>  data.frame\n",
      "a. The names of the headers in the dataset == "
     ]
    },
    {
     "data": {
      "text/html": [
       "<ol class=list-inline>\n",
       "\t<li>'Ozone'</li>\n",
       "\t<li>'Solar.R'</li>\n",
       "\t<li>'Wind'</li>\n",
       "\t<li>'Temp'</li>\n",
       "\t<li>'Month'</li>\n",
       "\t<li>'Day'</li>\n",
       "</ol>\n"
      ],
      "text/latex": [
       "\\begin{enumerate*}\n",
       "\\item 'Ozone'\n",
       "\\item 'Solar.R'\n",
       "\\item 'Wind'\n",
       "\\item 'Temp'\n",
       "\\item 'Month'\n",
       "\\item 'Day'\n",
       "\\end{enumerate*}\n"
      ],
      "text/markdown": [
       "1. 'Ozone'\n",
       "2. 'Solar.R'\n",
       "3. 'Wind'\n",
       "4. 'Temp'\n",
       "5. 'Month'\n",
       "6. 'Day'\n",
       "\n",
       "\n"
      ],
      "text/plain": [
       "[1] \"Ozone\"   \"Solar.R\" \"Wind\"    \"Temp\"    \"Month\"   \"Day\"    "
      ]
     },
     "execution_count": 3,
     "metadata": {},
     "output_type": "execute_result"
    },
    {
     "name": "stdout",
     "output_type": "stream",
     "text": [
      "\n",
      "b. The mean of each column in the dataset ==>"
     ]
    },
    {
     "data": {
      "text/html": [
       "<dl class=dl-horizontal>\n",
       "\t<dt>    Ozone</dt>\n",
       "\t\t<dd>'Mean   : 42.13  '</dd>\n",
       "\t<dt>   Solar.R</dt>\n",
       "\t\t<dd>'Mean   :185.9  '</dd>\n",
       "\t<dt>     Wind</dt>\n",
       "\t\t<dd>'Mean   : 9.958  '</dd>\n",
       "\t<dt>     Temp</dt>\n",
       "\t\t<dd>'Mean   :77.88  '</dd>\n",
       "\t<dt>    Month</dt>\n",
       "\t\t<dd>'Mean   :6.993  '</dd>\n",
       "\t<dt>     Day</dt>\n",
       "\t\t<dd>'Mean   :15.8  '</dd>\n",
       "</dl>\n"
      ],
      "text/latex": [
       "\\begin{description*}\n",
       "\\item[    Ozone] 'Mean   : 42.13  '\n",
       "\\item[   Solar.R] 'Mean   :185.9  '\n",
       "\\item[     Wind] 'Mean   : 9.958  '\n",
       "\\item[     Temp] 'Mean   :77.88  '\n",
       "\\item[    Month] 'Mean   :6.993  '\n",
       "\\item[     Day] 'Mean   :15.8  '\n",
       "\\end{description*}\n"
      ],
      "text/markdown": [
       "    Ozone\n",
       ":   'Mean   : 42.13  '   Solar.R\n",
       ":   'Mean   :185.9  '     Wind\n",
       ":   'Mean   : 9.958  '     Temp\n",
       ":   'Mean   :77.88  '    Month\n",
       ":   'Mean   :6.993  '     Day\n",
       ":   'Mean   :15.8  '\n",
       "\n"
      ],
      "text/plain": [
       "             Ozone            Solar.R               Wind               Temp \n",
       "\"Mean   : 42.13  \"  \"Mean   :185.9  \" \"Mean   : 9.958  \"  \"Mean   :77.88  \" \n",
       "             Month                Day \n",
       " \"Mean   :6.993  \"   \"Mean   :15.8  \" "
      ]
     },
     "execution_count": 3,
     "metadata": {},
     "output_type": "execute_result"
    },
    {
     "name": "stdout",
     "output_type": "stream",
     "text": [
      "\n",
      "c. Total NAs in the dataset == 44  and column wise count of NAs ==>"
     ]
    },
    {
     "data": {
      "text/html": [
       "<dl class=dl-horizontal>\n",
       "\t<dt>Ozone</dt>\n",
       "\t\t<dd>37</dd>\n",
       "\t<dt>Solar.R</dt>\n",
       "\t\t<dd>7</dd>\n",
       "\t<dt>Wind</dt>\n",
       "\t\t<dd>0</dd>\n",
       "\t<dt>Temp</dt>\n",
       "\t\t<dd>0</dd>\n",
       "\t<dt>Month</dt>\n",
       "\t\t<dd>0</dd>\n",
       "\t<dt>Day</dt>\n",
       "\t\t<dd>0</dd>\n",
       "</dl>\n"
      ],
      "text/latex": [
       "\\begin{description*}\n",
       "\\item[Ozone] 37\n",
       "\\item[Solar.R] 7\n",
       "\\item[Wind] 0\n",
       "\\item[Temp] 0\n",
       "\\item[Month] 0\n",
       "\\item[Day] 0\n",
       "\\end{description*}\n"
      ],
      "text/markdown": [
       "Ozone\n",
       ":   37Solar.R\n",
       ":   7Wind\n",
       ":   0Temp\n",
       ":   0Month\n",
       ":   0Day\n",
       ":   0\n",
       "\n"
      ],
      "text/plain": [
       "  Ozone Solar.R    Wind    Temp   Month     Day \n",
       "     37       7       0       0       0       0 "
      ]
     },
     "execution_count": 3,
     "metadata": {},
     "output_type": "execute_result"
    },
    {
     "name": "stdout",
     "output_type": "stream",
     "text": [
      "\n",
      "d. The dataset summary == >"
     ]
    },
    {
     "data": {
      "text/plain": [
       "     Ozone           Solar.R           Wind             Temp      \n",
       " Min.   :  1.00   Min.   :  7.0   Min.   : 1.700   Min.   :56.00  \n",
       " 1st Qu.: 18.00   1st Qu.:115.8   1st Qu.: 7.400   1st Qu.:72.00  \n",
       " Median : 31.50   Median :205.0   Median : 9.700   Median :79.00  \n",
       " Mean   : 42.13   Mean   :185.9   Mean   : 9.958   Mean   :77.88  \n",
       " 3rd Qu.: 63.25   3rd Qu.:258.8   3rd Qu.:11.500   3rd Qu.:85.00  \n",
       " Max.   :168.00   Max.   :334.0   Max.   :20.700   Max.   :97.00  \n",
       " NA's   :37       NA's   :7                                       \n",
       "     Month            Day      \n",
       " Min.   :5.000   Min.   : 1.0  \n",
       " 1st Qu.:6.000   1st Qu.: 8.0  \n",
       " Median :7.000   Median :16.0  \n",
       " Mean   :6.993   Mean   :15.8  \n",
       " 3rd Qu.:8.000   3rd Qu.:23.0  \n",
       " Max.   :9.000   Max.   :31.0  \n",
       "                               "
      ]
     },
     "execution_count": 3,
     "metadata": {},
     "output_type": "execute_result"
    },
    {
     "name": "stdout",
     "output_type": "stream",
     "text": [
      "\n",
      "e. Month converted to factor class and the summary changes ==>"
     ]
    },
    {
     "data": {
      "text/html": [
       "<ol class=list-inline>\n",
       "\t<li>'5'</li>\n",
       "\t<li>'6'</li>\n",
       "\t<li>'7'</li>\n",
       "\t<li>'8'</li>\n",
       "\t<li>'9'</li>\n",
       "</ol>\n"
      ],
      "text/latex": [
       "\\begin{enumerate*}\n",
       "\\item '5'\n",
       "\\item '6'\n",
       "\\item '7'\n",
       "\\item '8'\n",
       "\\item '9'\n",
       "\\end{enumerate*}\n"
      ],
      "text/markdown": [
       "1. '5'\n",
       "2. '6'\n",
       "3. '7'\n",
       "4. '8'\n",
       "5. '9'\n",
       "\n",
       "\n"
      ],
      "text/plain": [
       "[1] \"5\" \"6\" \"7\" \"8\" \"9\""
      ]
     },
     "execution_count": 3,
     "metadata": {},
     "output_type": "execute_result"
    },
    {
     "data": {
      "text/html": [
       "<dl class=dl-horizontal>\n",
       "\t<dt>5</dt>\n",
       "\t\t<dd>31</dd>\n",
       "\t<dt>6</dt>\n",
       "\t\t<dd>30</dd>\n",
       "\t<dt>7</dt>\n",
       "\t\t<dd>31</dd>\n",
       "\t<dt>8</dt>\n",
       "\t\t<dd>31</dd>\n",
       "\t<dt>9</dt>\n",
       "\t\t<dd>30</dd>\n",
       "</dl>\n"
      ],
      "text/latex": [
       "\\begin{description*}\n",
       "\\item[5] 31\n",
       "\\item[6] 30\n",
       "\\item[7] 31\n",
       "\\item[8] 31\n",
       "\\item[9] 30\n",
       "\\end{description*}\n"
      ],
      "text/markdown": [
       "5\n",
       ":   316\n",
       ":   307\n",
       ":   318\n",
       ":   319\n",
       ":   30\n",
       "\n"
      ],
      "text/plain": [
       " 5  6  7  8  9 \n",
       "31 30 31 31 30 "
      ]
     },
     "execution_count": 3,
     "metadata": {},
     "output_type": "execute_result"
    }
   ],
   "source": [
    "airqual <- airquality\n",
    "\n",
    "cat(\"\\n The class of the \\\"airquality\\\" dataset object is ==> \", class(airquality))\n",
    "\n",
    "cat(\"\\na. The names of the headers in the dataset == \")\n",
    "colnames(airqual)\n",
    "\n",
    "cat(\"\\nb. The mean of each column in the dataset ==>\")\n",
    "summary(airquality, na.rm = T)[4,]\n",
    "\n",
    "cat(\"\\nc. Total NAs in the dataset ==\",sum(is.na(airqual)) , \" and column wise count of NAs ==>\")\n",
    "colSums(sapply(airqual, is.na))\n",
    "\n",
    "cat(\"\\nd. The dataset summary == >\")\n",
    "summary(airquality)\n",
    "\n",
    "cat(\"\\ne. Month converted to factor class and the summary changes ==>\")\n",
    "levels(as.factor(airquality$Month))\n",
    "airqual$Month <- as.factor(airqual$Month)\n",
    "summary(airqual$Month)"
   ]
  }
 ],
 "metadata": {
  "kernelspec": {
   "display_name": "R",
   "language": "R",
   "name": "ir"
  },
  "language_info": {
   "codemirror_mode": "r",
   "file_extension": ".r",
   "mimetype": "text/x-r-source",
   "name": "R",
   "pygments_lexer": "r",
   "version": "3.2.2"
  }
 },
 "nbformat": 4,
 "nbformat_minor": 0
}
