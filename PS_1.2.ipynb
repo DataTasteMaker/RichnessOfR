{
 "cells": [
  {
   "cell_type": "markdown",
   "metadata": {},
   "source": [
    "# Practice Session 1.2\n"
   ]
  },
  {
   "cell_type": "code",
   "execution_count": 1,
   "metadata": {
    "collapsed": true
   },
   "outputs": [],
   "source": [
    "rm (list = ls())"
   ]
  },
  {
   "cell_type": "markdown",
   "metadata": {},
   "source": [
    "### 1. Create a vector 'x' having values (1,2,3,4 and 5) and multiple each element by 2.\n"
   ]
  },
  {
   "cell_type": "code",
   "execution_count": 2,
   "metadata": {
    "collapsed": false
   },
   "outputs": [
    {
     "name": "stdout",
     "output_type": "stream",
     "text": [
      "\n",
      " Mutplied by 2, the value of 'x' ( 1 2 3 4 5 ) becomes == 2 4 6 8 10"
     ]
    }
   ],
   "source": [
    "x <- c(1,2,3,4,5)\n",
    "cat(\"\\n Mutplied by 2, the value of \\'x\\' (\",x,\") becomes ==\", x * 2)"
   ]
  },
  {
   "cell_type": "markdown",
   "metadata": {},
   "source": [
    "### 2. Create a vector named 'vowels' containing all the vowels in English language"
   ]
  },
  {
   "cell_type": "code",
   "execution_count": 3,
   "metadata": {
    "collapsed": false
   },
   "outputs": [
    {
     "name": "stdout",
     "output_type": "stream",
     "text": [
      "\n",
      "The vowels in English language are ==>  a e i o u"
     ]
    }
   ],
   "source": [
    "vowels <- letters[c(1,5,9,15,21)]\n",
    "cat(\"\\nThe vowels in English language are ==> \", vowels)"
   ]
  },
  {
   "cell_type": "markdown",
   "metadata": {},
   "source": [
    "### 3. Create a vector 'rep.num' of numbers 0 and 1, 5 times each\n"
   ]
  },
  {
   "cell_type": "code",
   "execution_count": 5,
   "metadata": {
    "collapsed": false
   },
   "outputs": [
    {
     "name": "stdout",
     "output_type": "stream",
     "text": [
      "\n",
      " Repeat 0 and 1, 5 times each can be done either as ==  0 0 0 0 0 1 1 1 1 1  \n",
      " OR as ==  0 1 0 1 0 1 0 1 0 1"
     ]
    }
   ],
   "source": [
    "cat (\"\\n Repeat 0 and 1, 5 times each can be done either as == \", rep(c(0,1), each = 5),\" \\n OR as == \", rep(c(0,1),5))"
   ]
  },
  {
   "cell_type": "markdown",
   "metadata": {},
   "source": [
    "### 4. Generate a sequence 'seq.1' from 1 to 25 in steps of 2"
   ]
  },
  {
   "cell_type": "code",
   "execution_count": 9,
   "metadata": {
    "collapsed": false
   },
   "outputs": [
    {
     "name": "stdout",
     "output_type": "stream",
     "text": [
      "\n",
      " The sequence generated is ==>  1 3 5 7 9 11 13 15 17 19 21 23 25 \n",
      "\n",
      " The number of elements in the sequence 13\n",
      " The element at 7th position  13\n",
      " List of elements from the sequence, expect the elements from the  position 3, 6, and 9 ==>  1 3 7 9 13 15 19 21 23 25"
     ]
    }
   ],
   "source": [
    "seq.1 <- seq(1,25,2)\n",
    "cat(\"\\n The sequence generated is ==> \", seq.1, \"\\n\")\n",
    "cat(\"\\n The number of elements in the sequence\", length(seq.1))\n",
    "cat(\"\\n The element at 7th position \", seq.1[7])\n",
    "cat(\"\\n List of elements from the sequence, expect the elements from the  position 3, 6, and 9 ==> \",seq.1[-c(3,6,9)])"
   ]
  },
  {
   "cell_type": "markdown",
   "metadata": {},
   "source": [
    "\n",
    "### 5. Generate a sequencce 'seq.2' from -3 to 3 with 10 evenly distributed elements and print all the elements less than 1."
   ]
  },
  {
   "cell_type": "code",
   "execution_count": 11,
   "metadata": {
    "collapsed": false,
    "scrolled": true
   },
   "outputs": [
    {
     "name": "stdout",
     "output_type": "stream",
     "text": [
      "\n",
      " Sequence from -3 to 3 with 10 evenly distributed elements ==> \n",
      " -3 -2.333333 -1.666667 -1 -0.3333333 0.3333333 1 1.666667 2.333333 3 \n",
      "\n",
      "\n",
      " List of elements which are less than 1 ==> \n",
      " -3 -2.333333 -1.666667 -1 -0.3333333 0.3333333"
     ]
    }
   ],
   "source": [
    "seq.2 <- seq(-3,3,  length.out = 10)\n",
    "cat(\"\\n Sequence from -3 to 3 with 10 evenly distributed elements ==> \\n\", seq.2, \"\\n\\n\")\n",
    "cat(\"\\n List of elements which are less than 1 ==> \\n\", seq.2[seq.2 <1])"
   ]
  },
  {
   "cell_type": "markdown",
   "metadata": {},
   "source": [
    "### 6. Create a matrix 'Mat.1' of 2 rows and 3 columns having elements (2,1,3,6,4,5) and find the transpose"
   ]
  },
  {
   "cell_type": "code",
   "execution_count": 12,
   "metadata": {
    "collapsed": false
   },
   "outputs": [
    {
     "data": {
      "text/html": [
       "<table>\n",
       "<tbody>\n",
       "\t<tr><td>2</td><td>1</td><td>3</td></tr>\n",
       "\t<tr><td>6</td><td>4</td><td>5</td></tr>\n",
       "</tbody>\n",
       "</table>\n"
      ],
      "text/latex": [
       "\\begin{tabular}{lll}\n",
       "\t 2 & 1 & 3\\\\\n",
       "\t 6 & 4 & 5\\\\\n",
       "\\end{tabular}\n"
      ],
      "text/markdown": [
       "1. 2\n",
       "2. 6\n",
       "3. 1\n",
       "4. 4\n",
       "5. 3\n",
       "6. 5\n",
       "\n",
       "\n"
      ],
      "text/plain": [
       "     [,1] [,2] [,3]\n",
       "[1,]    2    1    3\n",
       "[2,]    6    4    5"
      ]
     },
     "execution_count": 12,
     "metadata": {},
     "output_type": "execute_result"
    },
    {
     "name": "stdout",
     "output_type": "stream",
     "text": [
      "[1] \"The transpose (t()) of matrix  is ==> \"\n"
     ]
    },
    {
     "data": {
      "text/html": [
       "<table>\n",
       "<tbody>\n",
       "\t<tr><td>2</td><td>6</td></tr>\n",
       "\t<tr><td>1</td><td>4</td></tr>\n",
       "\t<tr><td>3</td><td>5</td></tr>\n",
       "</tbody>\n",
       "</table>\n"
      ],
      "text/latex": [
       "\\begin{tabular}{ll}\n",
       "\t 2 & 6\\\\\n",
       "\t 1 & 4\\\\\n",
       "\t 3 & 5\\\\\n",
       "\\end{tabular}\n"
      ],
      "text/markdown": [
       "1. 2\n",
       "2. 1\n",
       "3. 3\n",
       "4. 6\n",
       "5. 4\n",
       "6. 5\n",
       "\n",
       "\n"
      ],
      "text/plain": [
       "     [,1] [,2]\n",
       "[1,]    2    6\n",
       "[2,]    1    4\n",
       "[3,]    3    5"
      ]
     },
     "execution_count": 12,
     "metadata": {},
     "output_type": "execute_result"
    }
   ],
   "source": [
    "mat.1 <- matrix(c(2,1,3,6,4,5), nrow = 2, byrow = T)\n",
    "mat.1\n",
    "print(\"The transpose (t()) of matrix  is ==> \")\n",
    "t(mat.1)"
   ]
  },
  {
   "cell_type": "markdown",
   "metadata": {},
   "source": [
    "### 7. Create a 4x4 diagonal matrix having elements 1, 2, 3 and 4 and another 4x3 matrix having elements from 1 to 12 and then  perform multiplication operations on both these matrices\n"
   ]
  },
  {
   "cell_type": "code",
   "execution_count": 13,
   "metadata": {
    "collapsed": false
   },
   "outputs": [
    {
     "name": "stdout",
     "output_type": "stream",
     "text": [
      "[1] \"First Matrix\"\n"
     ]
    },
    {
     "data": {
      "text/html": [
       "<table>\n",
       "<tbody>\n",
       "\t<tr><td>1</td><td>0</td><td>0</td><td>0</td></tr>\n",
       "\t<tr><td>0</td><td>2</td><td>0</td><td>0</td></tr>\n",
       "\t<tr><td>0</td><td>0</td><td>3</td><td>0</td></tr>\n",
       "\t<tr><td>0</td><td>0</td><td>0</td><td>4</td></tr>\n",
       "</tbody>\n",
       "</table>\n"
      ],
      "text/latex": [
       "\\begin{tabular}{llll}\n",
       "\t 1 & 0 & 0 & 0\\\\\n",
       "\t 0 & 2 & 0 & 0\\\\\n",
       "\t 0 & 0 & 3 & 0\\\\\n",
       "\t 0 & 0 & 0 & 4\\\\\n",
       "\\end{tabular}\n"
      ],
      "text/markdown": [
       "1. 1\n",
       "2. 0\n",
       "3. 0\n",
       "4. 0\n",
       "5. 0\n",
       "6. 2\n",
       "7. 0\n",
       "8. 0\n",
       "9. 0\n",
       "10. 0\n",
       "11. 3\n",
       "12. 0\n",
       "13. 0\n",
       "14. 0\n",
       "15. 0\n",
       "16. 4\n",
       "\n",
       "\n"
      ],
      "text/plain": [
       "     [,1] [,2] [,3] [,4]\n",
       "[1,]    1    0    0    0\n",
       "[2,]    0    2    0    0\n",
       "[3,]    0    0    3    0\n",
       "[4,]    0    0    0    4"
      ]
     },
     "execution_count": 13,
     "metadata": {},
     "output_type": "execute_result"
    },
    {
     "name": "stdout",
     "output_type": "stream",
     "text": [
      "[1] \"Second Matrix\"\n"
     ]
    },
    {
     "data": {
      "text/html": [
       "<table>\n",
       "<tbody>\n",
       "\t<tr><td>1</td><td>5</td><td>9</td></tr>\n",
       "\t<tr><td> 2</td><td> 6</td><td>10</td></tr>\n",
       "\t<tr><td> 3</td><td> 7</td><td>11</td></tr>\n",
       "\t<tr><td> 4</td><td> 8</td><td>12</td></tr>\n",
       "</tbody>\n",
       "</table>\n"
      ],
      "text/latex": [
       "\\begin{tabular}{lll}\n",
       "\t 1 & 5 & 9\\\\\n",
       "\t  2 &  6 & 10\\\\\n",
       "\t  3 &  7 & 11\\\\\n",
       "\t  4 &  8 & 12\\\\\n",
       "\\end{tabular}\n"
      ],
      "text/markdown": [
       "1. 1\n",
       "2. 2\n",
       "3. 3\n",
       "4. 4\n",
       "5. 5\n",
       "6. 6\n",
       "7. 7\n",
       "8. 8\n",
       "9. 9\n",
       "10. 10\n",
       "11. 11\n",
       "12. 12\n",
       "\n",
       "\n"
      ],
      "text/plain": [
       "     [,1] [,2] [,3]\n",
       "[1,]    1    5    9\n",
       "[2,]    2    6   10\n",
       "[3,]    3    7   11\n",
       "[4,]    4    8   12"
      ]
     },
     "execution_count": 13,
     "metadata": {},
     "output_type": "execute_result"
    },
    {
     "name": "stdout",
     "output_type": "stream",
     "text": [
      "[1] \"...Now performing Matrix multiplication on the above two matrices to get the below results\"\n"
     ]
    },
    {
     "data": {
      "text/html": [
       "<table>\n",
       "<tbody>\n",
       "\t<tr><td>1</td><td>5</td><td>9</td></tr>\n",
       "\t<tr><td> 4</td><td>12</td><td>20</td></tr>\n",
       "\t<tr><td> 9</td><td>21</td><td>33</td></tr>\n",
       "\t<tr><td>16</td><td>32</td><td>48</td></tr>\n",
       "</tbody>\n",
       "</table>\n"
      ],
      "text/latex": [
       "\\begin{tabular}{lll}\n",
       "\t 1 & 5 & 9\\\\\n",
       "\t  4 & 12 & 20\\\\\n",
       "\t  9 & 21 & 33\\\\\n",
       "\t 16 & 32 & 48\\\\\n",
       "\\end{tabular}\n"
      ],
      "text/markdown": [
       "1. 1\n",
       "2. 4\n",
       "3. 9\n",
       "4. 16\n",
       "5. 5\n",
       "6. 12\n",
       "7. 21\n",
       "8. 32\n",
       "9. 9\n",
       "10. 20\n",
       "11. 33\n",
       "12. 48\n",
       "\n",
       "\n"
      ],
      "text/plain": [
       "     [,1] [,2] [,3]\n",
       "[1,]    1    5    9\n",
       "[2,]    4   12   20\n",
       "[3,]    9   21   33\n",
       "[4,]   16   32   48"
      ]
     },
     "execution_count": 13,
     "metadata": {},
     "output_type": "execute_result"
    }
   ],
   "source": [
    "m1 <- diag(c(1,2,3,4), nrow=4 , ncol=4)\n",
    "print(\"First Matrix\")\n",
    "m1\n",
    "m2 <- matrix(seq(1,12), nrow=4)\n",
    "print(\"Second Matrix\")\n",
    "m2\n",
    "matMulti <- m1 %*% m2\n",
    "print(\"...Now performing Matrix multiplication on the above two matrices to get the below results\")\n",
    "matMulti"
   ]
  },
  {
   "cell_type": "markdown",
   "metadata": {},
   "source": [
    "### 8. Create an array with dimensions 2 x 3 x 4 and elements 1-24.\n",
    "\n",
    "#### Not sure why the 3d array is not getting printed the way it does on R-Console/R-Studio, will try searching for a solution."
   ]
  },
  {
   "cell_type": "code",
   "execution_count": 14,
   "metadata": {
    "collapsed": false
   },
   "outputs": [
    {
     "data": {
      "text/html": [
       "<ol class=list-inline>\n",
       "\t<li>1</li>\n",
       "\t<li>2</li>\n",
       "\t<li>3</li>\n",
       "\t<li>4</li>\n",
       "\t<li>5</li>\n",
       "\t<li>6</li>\n",
       "\t<li>7</li>\n",
       "\t<li>8</li>\n",
       "\t<li>9</li>\n",
       "\t<li>10</li>\n",
       "\t<li>11</li>\n",
       "\t<li>12</li>\n",
       "\t<li>13</li>\n",
       "\t<li>14</li>\n",
       "\t<li>15</li>\n",
       "\t<li>16</li>\n",
       "\t<li>17</li>\n",
       "\t<li>18</li>\n",
       "\t<li>19</li>\n",
       "\t<li>20</li>\n",
       "\t<li>21</li>\n",
       "\t<li>22</li>\n",
       "\t<li>23</li>\n",
       "\t<li>24</li>\n",
       "</ol>\n"
      ],
      "text/latex": [
       "\\begin{enumerate*}\n",
       "\\item 1\n",
       "\\item 2\n",
       "\\item 3\n",
       "\\item 4\n",
       "\\item 5\n",
       "\\item 6\n",
       "\\item 7\n",
       "\\item 8\n",
       "\\item 9\n",
       "\\item 10\n",
       "\\item 11\n",
       "\\item 12\n",
       "\\item 13\n",
       "\\item 14\n",
       "\\item 15\n",
       "\\item 16\n",
       "\\item 17\n",
       "\\item 18\n",
       "\\item 19\n",
       "\\item 20\n",
       "\\item 21\n",
       "\\item 22\n",
       "\\item 23\n",
       "\\item 24\n",
       "\\end{enumerate*}\n"
      ],
      "text/markdown": [
       "1. 1\n",
       "2. 2\n",
       "3. 3\n",
       "4. 4\n",
       "5. 5\n",
       "6. 6\n",
       "7. 7\n",
       "8. 8\n",
       "9. 9\n",
       "10. 10\n",
       "11. 11\n",
       "12. 12\n",
       "13. 13\n",
       "14. 14\n",
       "15. 15\n",
       "16. 16\n",
       "17. 17\n",
       "18. 18\n",
       "19. 19\n",
       "20. 20\n",
       "21. 21\n",
       "22. 22\n",
       "23. 23\n",
       "24. 24\n",
       "\n",
       "\n"
      ],
      "text/plain": [
       ", , level1\n",
       "\n",
       "     col.1 col.2 col.3\n",
       "row1     1     3     5\n",
       "row2     2     4     6\n",
       "\n",
       ", , level2\n",
       "\n",
       "     col.1 col.2 col.3\n",
       "row1     7     9    11\n",
       "row2     8    10    12\n",
       "\n",
       ", , level3\n",
       "\n",
       "     col.1 col.2 col.3\n",
       "row1    13    15    17\n",
       "row2    14    16    18\n",
       "\n",
       ", , level4\n",
       "\n",
       "     col.1 col.2 col.3\n",
       "row1    19    21    23\n",
       "row2    20    22    24\n"
      ]
     },
     "execution_count": 14,
     "metadata": {},
     "output_type": "execute_result"
    }
   ],
   "source": [
    "arr3D <- array(1:24,dim = c(2,3,4), dimnames = list(c(\"row1\", \"row2\"),\n",
    "               c(\"col.1\",\"col.2\",\"col.3\"),\n",
    "               c(\"level1\",\"level2\",\"level3\",\"level4\")))\n",
    "arr3D"
   ]
  }
 ],
 "metadata": {
  "kernelspec": {
   "display_name": "R",
   "language": "R",
   "name": "ir"
  },
  "language_info": {
   "codemirror_mode": "r",
   "file_extension": ".r",
   "mimetype": "text/x-r-source",
   "name": "R",
   "pygments_lexer": "r",
   "version": "3.2.2"
  }
 },
 "nbformat": 4,
 "nbformat_minor": 0
}
